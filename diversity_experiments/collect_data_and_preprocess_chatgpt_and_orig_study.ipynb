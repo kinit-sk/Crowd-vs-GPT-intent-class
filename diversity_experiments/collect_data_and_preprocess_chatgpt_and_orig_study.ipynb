{
 "cells": [
  {
   "cell_type": "markdown",
   "id": "5c53e3fe",
   "metadata": {},
   "source": [
    "This notebook also contains code for preprocessing the data into a train-test dataset (replication of the experiments from the original study which we dont report in our paper) and the preparation of the paper version of the data - only for the diversity calcs."
   ]
  },
  {
   "cell_type": "code",
   "execution_count": 1,
   "id": "5fc0877a",
   "metadata": {
    "collapsed": true
   },
   "outputs": [
    {
     "name": "stdout",
     "output_type": "stream",
     "text": [
      "Collecting openai\n",
      "  Downloading openai-0.27.6-py3-none-any.whl (71 kB)\n",
      "     ---------------------------------------- 71.9/71.9 kB 3.9 MB/s eta 0:00:00\n",
      "Requirement already satisfied: tqdm in c:\\users\\jance\\appdata\\local\\programs\\python\\python39\\lib\\site-packages (from openai) (4.62.3)\n",
      "Requirement already satisfied: requests>=2.20 in c:\\users\\jance\\appdata\\local\\programs\\python\\python39\\lib\\site-packages (from openai) (2.26.0)\n",
      "Requirement already satisfied: aiohttp in c:\\users\\jance\\appdata\\local\\programs\\python\\python39\\lib\\site-packages (from openai) (3.8.1)\n",
      "Requirement already satisfied: idna<4,>=2.5 in c:\\users\\jance\\appdata\\local\\programs\\python\\python39\\lib\\site-packages (from requests>=2.20->openai) (3.2)\n",
      "Requirement already satisfied: charset-normalizer~=2.0.0 in c:\\users\\jance\\appdata\\local\\programs\\python\\python39\\lib\\site-packages (from requests>=2.20->openai) (2.0.6)\n",
      "Requirement already satisfied: certifi>=2017.4.17 in c:\\users\\jance\\appdata\\local\\programs\\python\\python39\\lib\\site-packages (from requests>=2.20->openai) (2021.5.30)\n",
      "Requirement already satisfied: urllib3<1.27,>=1.21.1 in c:\\users\\jance\\appdata\\local\\programs\\python\\python39\\lib\\site-packages (from requests>=2.20->openai) (1.26.7)\n",
      "Requirement already satisfied: yarl<2.0,>=1.0 in c:\\users\\jance\\appdata\\local\\programs\\python\\python39\\lib\\site-packages (from aiohttp->openai) (1.7.2)\n",
      "Requirement already satisfied: attrs>=17.3.0 in c:\\users\\jance\\appdata\\local\\programs\\python\\python39\\lib\\site-packages (from aiohttp->openai) (21.2.0)\n",
      "Requirement already satisfied: multidict<7.0,>=4.5 in c:\\users\\jance\\appdata\\local\\programs\\python\\python39\\lib\\site-packages (from aiohttp->openai) (5.2.0)"
     ]
    },
    {
     "name": "stderr",
     "output_type": "stream",
     "text": [
      "WARNING: There was an error checking the latest version of pip.\n"
     ]
    },
    {
     "name": "stdout",
     "output_type": "stream",
     "text": [
      "\n",
      "Requirement already satisfied: async-timeout<5.0,>=4.0.0a3 in c:\\users\\jance\\appdata\\local\\programs\\python\\python39\\lib\\site-packages (from aiohttp->openai) (4.0.1)\n",
      "Requirement already satisfied: frozenlist>=1.1.1 in c:\\users\\jance\\appdata\\local\\programs\\python\\python39\\lib\\site-packages (from aiohttp->openai) (1.2.0)\n",
      "Requirement already satisfied: aiosignal>=1.1.2 in c:\\users\\jance\\appdata\\local\\programs\\python\\python39\\lib\\site-packages (from aiohttp->openai) (1.2.0)\n",
      "Requirement already satisfied: colorama in c:\\users\\jance\\appdata\\local\\programs\\python\\python39\\lib\\site-packages (from tqdm->openai) (0.4.4)\n",
      "Requirement already satisfied: typing-extensions>=3.6.5 in c:\\users\\jance\\appdata\\local\\programs\\python\\python39\\lib\\site-packages (from async-timeout<5.0,>=4.0.0a3->aiohttp->openai) (4.0.1)\n",
      "Installing collected packages: openai\n",
      "Successfully installed openai-0.27.6\n"
     ]
    }
   ],
   "source": [
    "!pip install openai"
   ]
  },
  {
   "cell_type": "code",
   "execution_count": 1,
   "id": "5fef9dbc",
   "metadata": {},
   "outputs": [],
   "source": [
    "import os\n",
    "import openai"
   ]
  },
  {
   "cell_type": "code",
   "execution_count": 2,
   "id": "99f9de07",
   "metadata": {},
   "outputs": [],
   "source": [
    "import pandas as pd\n",
    "import os\n",
    "import numpy as np\n",
    "from ast import literal_eval\n",
    "import json\n",
    "import pickle\n",
    "import time"
   ]
  },
  {
   "cell_type": "markdown",
   "id": "2bbcf3e8",
   "metadata": {},
   "source": [
    "## 1. PROMPT 0-2\n",
    "\n",
    "#### THIS FIRST BLOCK OF CODE UNTIL TABOO SHOULD BE RUN 3 TIMES TO COLLECT PROMPT_0, PROMPT_1 and PROMPT_2 DATA"
   ]
  },
  {
   "cell_type": "code",
   "execution_count": 2,
   "id": "c8839a3e",
   "metadata": {},
   "outputs": [],
   "source": [
    "import json \n",
    "\n",
    "# Opening JSON file\n",
    "dct_dataframe = {'text': [], 'intent': []}\n",
    "\n",
    "# this is the path to the dataset, we dont use taboo words at first\n",
    "f = open('./taboo_data/robust_data_collection/intent_classification/taboo_1_config.json')\n",
    "\n",
    "# returns JSON object as \n",
    "# a dictionary\n",
    "data = json.load(f)\n",
    "\n",
    "# Closing file\n",
    "f.close()"
   ]
  },
  {
   "cell_type": "code",
   "execution_count": 4,
   "id": "f094ec8f",
   "metadata": {},
   "outputs": [],
   "source": [
    "dct_phrases = {}\n",
    "for key in data:\n",
    "    dct_phrases[key] = data[key]['phrases']"
   ]
  },
  {
   "cell_type": "code",
   "execution_count": 6,
   "id": "85559643",
   "metadata": {},
   "outputs": [],
   "source": [
    "default_prompt = 'Rephrase an original question or statement 5 times. Original phrase: \"{}\"'"
   ]
  },
  {
   "cell_type": "code",
   "execution_count": 7,
   "id": "7d00bdfd",
   "metadata": {},
   "outputs": [],
   "source": [
    "dct_final_prompts = {}\n",
    "\n",
    "for key in dct_phrases:\n",
    "    dct_final_prompts[key] = []\n",
    "    for phrase in dct_phrases[key]:\n",
    "        dct_final_prompts[key].append(default_prompt.format(phrase))"
   ]
  },
  {
   "cell_type": "code",
   "execution_count": 4,
   "id": "b5282d40",
   "metadata": {},
   "outputs": [],
   "source": [
    "openai.api_key = '' # YOUR OPENAI API KEY GOES HERE"
   ]
  },
  {
   "cell_type": "code",
   "execution_count": 5,
   "id": "0ef8f191",
   "metadata": {},
   "outputs": [],
   "source": [
    "def request_response_from_gpt(prompt):\n",
    "    response = openai.ChatCompletion.create(\n",
    "        model=\"gpt-3.5-turbo\",\n",
    "        #prompt=prompt,\n",
    "        messages=[\n",
    "            {\"role\": \"system\", \"content\": \"You are a crowdsourcing worker that earns a living through creating paraphrases.\"},\n",
    "            {\"role\": \"user\", \"content\": prompt}],\n",
    "        temperature=1,\n",
    "        frequency_penalty=0.0,\n",
    "        presence_penalty=1.5,\n",
    "        n=13)\n",
    "    return response"
   ]
  },
  {
   "cell_type": "code",
   "execution_count": 6,
   "id": "561cfb90",
   "metadata": {},
   "outputs": [],
   "source": [
    "def request_with_checks(prompt):\n",
    "    success = False\n",
    "    count = 0\n",
    "    while not success:\n",
    "        if count > 0:\n",
    "            print(f'Retrying with again. Current number of retries: {count}')\n",
    "        if count >= 5:\n",
    "            raise Exception('Too many attempts')\n",
    "        try:\n",
    "            response = request_response_from_gpt(prompt)\n",
    "            sucess = True\n",
    "            break\n",
    "        except openai.error.RateLimitError as e:\n",
    "            print(e)\n",
    "            time.sleep(20)\n",
    "            count += 1\n",
    "        except openai.error.APIConnectionError as e:\n",
    "            print(e)\n",
    "            time.sleep(5)\n",
    "            count += 1\n",
    "        except openai.error.APIError or openai.error.JSONDecodeError:\n",
    "            time.sleep(5)\n",
    "            count += 1\n",
    "    return response"
   ]
  },
  {
   "cell_type": "code",
   "execution_count": 7,
   "id": "a3acf4de",
   "metadata": {},
   "outputs": [],
   "source": [
    "dct_responses = {}"
   ]
  },
  {
   "cell_type": "code",
   "execution_count": 35,
   "id": "f3a28765",
   "metadata": {
    "collapsed": true
   },
   "outputs": [
    {
     "name": "stdout",
     "output_type": "stream",
     "text": [
      "phone\n",
      "Rephrase an original question or statement 5 times. Original phrase: \"what's the phone number of my bank\"\n",
      "Rephrase an original question or statement 5 times. Original phrase: \"what number do i call to reach my bank\"\n",
      "Rephrase an original question or statement 5 times. Original phrase: \"what's my bank's phone number\"\n",
      "appointment\n",
      "Rephrase an original question or statement 5 times. Original phrase: \"i would like to meet with a bank representative\"\n",
      "Rephrase an original question or statement 5 times. Original phrase: \"can i schedule an appointment with someone at the bank?\"\n",
      "Rephrase an original question or statement 5 times. Original phrase: \"how do i set up an appointment at the bank?\"\n",
      "hours\n",
      "Rephrase an original question or statement 5 times. Original phrase: \"what time does the bank open?\"\n",
      "Rephrase an original question or statement 5 times. Original phrase: \"can you check my bank's hours?\"\n",
      "Rephrase an original question or statement 5 times. Original phrase: \"when does the bank close?\"\n",
      "safe\n",
      "Rephrase an original question or statement 5 times. Original phrase: \"how do i get a safe deposit box?\"\n",
      "Rephrase an original question or statement 5 times. Original phrase: \"i would like to get a safety deposit box at my bank\"\n",
      "Rephrase an original question or statement 5 times. Original phrase: \"i want information on getting a safe deposit box\"\n",
      "checks\n",
      "Rephrase an original question or statement 5 times. Original phrase: \"how do i order more checks?\"\n",
      "Rephrase an original question or statement 5 times. Original phrase: \"my checkbook is empty can i order more\"\n",
      "Rephrase an original question or statement 5 times. Original phrase: \"i need to order more checks\"\n",
      "location\n",
      "Rephrase an original question or statement 5 times. Original phrase: \"where's the nearest bank?\"\n",
      "Rephrase an original question or statement 5 times. Original phrase: \"i need to find an atm\"\n",
      "Rephrase an original question or statement 5 times. Original phrase: \"how do i get to the nearest branch?\"\n",
      "close\n",
      "Rephrase an original question or statement 5 times. Original phrase: \"what's the proper way to close my account?\"\n",
      "Rephrase an original question or statement 5 times. Original phrase: \"i want to close a bank acount\"\n",
      "Rephrase an original question or statement 5 times. Original phrase: \"how do i close an account?\"\n",
      "withdrawal\n",
      "Rephrase an original question or statement 5 times. Original phrase: \"what is my withdrawal limit?\"\n",
      "Rephrase an original question or statement 5 times. Original phrase: \"how high is my withdrawal limit?\"\n",
      "Rephrase an original question or statement 5 times. Original phrase: \"how much money can i withdraw at once?\"\n",
      "routing\n",
      "Rephrase an original question or statement 5 times. Original phrase: \"what is my bank's routing number?\"\n",
      "Rephrase an original question or statement 5 times. Original phrase: \"i need the routing number for my bank\"\n",
      "Rephrase an original question or statement 5 times. Original phrase: \"how do i find my routing number?\"\n",
      "balance\n",
      "Rephrase an original question or statement 5 times. Original phrase: \"how do i check my account balance?\"\n",
      "Rephrase an original question or statement 5 times. Original phrase: \"how much money do i have?\"\n",
      "Rephrase an original question or statement 5 times. Original phrase: \"what's my balance?\"\n"
     ]
    }
   ],
   "source": [
    "# you can adjust the time.sleep duration based on the rate limit of openai\n",
    "for key in dct_final_prompts:\n",
    "    print(key)\n",
    "    dct_responses[key] = []\n",
    "    for prompt in dct_final_prompts[key]:\n",
    "        print(prompt)\n",
    "        response = request_with_checks(prompt)\n",
    "        dct_responses[key].append(response)\n",
    "        time.sleep(20)"
   ]
  },
  {
   "cell_type": "code",
   "execution_count": 36,
   "id": "97f5f989",
   "metadata": {},
   "outputs": [],
   "source": [
    "with open('responses_0.pkl', 'wb') as file:\n",
    "    pickle.dump(dct_responses, file)\n",
    "    \n",
    "# with open('responses_1.pkl', 'wb') as file:\n",
    "#     pickle.dump(dct_responses, file)\n",
    "    \n",
    "# with open('responses_2.pkl', 'wb') as file:\n",
    "#     pickle.dump(dct_responses, file)"
   ]
  },
  {
   "cell_type": "code",
   "execution_count": 37,
   "id": "866b7f46",
   "metadata": {},
   "outputs": [],
   "source": [
    "dct_df = {'intent': [], 'text': []}\n",
    "for key in dct_responses:\n",
    "    for responses in dct_responses[key]:\n",
    "        for response in responses['choices']:\n",
    "            contents = response['message']['content'].split('\\n')\n",
    "            for content in contents:\n",
    "                dct_df['intent'].append(key)\n",
    "                dct_df['text'].append(content[3:])"
   ]
  },
  {
   "cell_type": "code",
   "execution_count": 38,
   "id": "07d46951",
   "metadata": {},
   "outputs": [],
   "source": [
    "chatGpt_0 = pd.DataFrame.from_dict(dct_df)"
   ]
  },
  {
   "cell_type": "code",
   "execution_count": 39,
   "id": "05135044",
   "metadata": {},
   "outputs": [],
   "source": [
    "chatGpt_0.drop_duplicates(subset=['text']).dropna('text').to_csv('chatGPT_0.csv', index=False)\n",
    "#chatGpt_0.drop_duplicates(subset=['text']).dropna('text').to_csv('chatGPT_1.csv', index=False)\n",
    "#chatGpt_0.drop_duplicates(subset=['text']).dropna('text').to_csv('chatGPT_2.csv', index=False)"
   ]
  },
  {
   "cell_type": "markdown",
   "id": "7c5543c4",
   "metadata": {},
   "source": [
    "## 2. TABOO 1"
   ]
  },
  {
   "cell_type": "code",
   "execution_count": 70,
   "id": "a335fd98",
   "metadata": {},
   "outputs": [],
   "source": [
    "import json \n",
    "\n",
    "# Opening JSON file\n",
    "dct_dataframe = {'text': [], 'intent': []}\n",
    "\n",
    "f = open('./taboo_data/robust_data_collection/intent_classification/taboo_1_config.json')\n",
    "\n",
    "# returns JSON object as \n",
    "# a dictionary\n",
    "data = json.load(f)\n",
    "\n",
    "# Closing file\n",
    "f.close()"
   ]
  },
  {
   "cell_type": "code",
   "execution_count": 71,
   "id": "43a23048",
   "metadata": {},
   "outputs": [],
   "source": [
    "dct_phrases = {}\n",
    "dct_taboo = {}\n",
    "for key in data:\n",
    "    dct_phrases[key] = data[key]['phrases']\n",
    "    dct_taboo[key] = data[key]['avoid_words']"
   ]
  },
  {
   "cell_type": "code",
   "execution_count": 73,
   "id": "4fbadad3",
   "metadata": {},
   "outputs": [],
   "source": [
    "defaul_taboo_prompt = 'Rephrase an original question or statement 5 times. Original phrase: \"{}\". Don’t use the words “{}”, \"{}\" or “{}” in your responses.'"
   ]
  },
  {
   "cell_type": "code",
   "execution_count": 74,
   "id": "18aef18a",
   "metadata": {},
   "outputs": [],
   "source": [
    "dct_final_prompts = {}\n",
    "\n",
    "for key in dct_phrases:\n",
    "    dct_final_prompts[key] = []\n",
    "    for phrase in dct_phrases[key]:\n",
    "        dct_final_prompts[key].append(defaul_taboo_prompt.format(phrase, dct_taboo[key][0], dct_taboo[key][1], dct_taboo[key][2]))"
   ]
  },
  {
   "cell_type": "code",
   "execution_count": 76,
   "id": "65794680",
   "metadata": {},
   "outputs": [],
   "source": [
    "dct_responses = {}"
   ]
  },
  {
   "cell_type": "code",
   "execution_count": 77,
   "id": "66c5287f",
   "metadata": {
    "scrolled": true
   },
   "outputs": [
    {
     "name": "stdout",
     "output_type": "stream",
     "text": [
      "phone\n",
      "Rephrase an original question or statement 5 times. Original phrase: \"what's the phone number of my bank\". Don’t use the words “number”, \"call\" or “contact” in your responses.\n",
      "Rephrase an original question or statement 5 times. Original phrase: \"what number do i call to reach my bank\". Don’t use the words “number”, \"call\" or “contact” in your responses.\n",
      "Rephrase an original question or statement 5 times. Original phrase: \"what's my bank's phone number\". Don’t use the words “number”, \"call\" or “contact” in your responses.\n",
      "appointment\n",
      "Rephrase an original question or statement 5 times. Original phrase: \"i would like to meet with a bank representative\". Don’t use the words “appointment”, \"representative\" or “meeting” in your responses.\n",
      "Rephrase an original question or statement 5 times. Original phrase: \"can i schedule an appointment with someone at the bank?\". Don’t use the words “appointment”, \"representative\" or “meeting” in your responses.\n",
      "Rephrase an original question or statement 5 times. Original phrase: \"how do i set up an appointment at the bank?\". Don’t use the words “appointment”, \"representative\" or “meeting” in your responses.\n",
      "hours\n",
      "Rephrase an original question or statement 5 times. Original phrase: \"what time does the bank open?\". Don’t use the words “hours”, \"open\" or “time” in your responses.\n",
      "Rephrase an original question or statement 5 times. Original phrase: \"can you check my bank's hours?\". Don’t use the words “hours”, \"open\" or “time” in your responses.\n",
      "Rephrase an original question or statement 5 times. Original phrase: \"when does the bank close?\". Don’t use the words “hours”, \"open\" or “time” in your responses.\n",
      "safe\n",
      "Rephrase an original question or statement 5 times. Original phrase: \"how do i get a safe deposit box?\". Don’t use the words “deposit”, \"box\" or “boxes” in your responses.\n",
      "Rephrase an original question or statement 5 times. Original phrase: \"i would like to get a safety deposit box at my bank\". Don’t use the words “deposit”, \"box\" or “boxes” in your responses.\n",
      "Rephrase an original question or statement 5 times. Original phrase: \"i want information on getting a safe deposit box\". Don’t use the words “deposit”, \"box\" or “boxes” in your responses.\n",
      "checks\n",
      "Rephrase an original question or statement 5 times. Original phrase: \"how do i order more checks?\". Don’t use the words “checks”, \"ordering\" or “checkbook” in your responses.\n",
      "Rephrase an original question or statement 5 times. Original phrase: \"my checkbook is empty can i order more\". Don’t use the words “checks”, \"ordering\" or “checkbook” in your responses.\n",
      "Rephrase an original question or statement 5 times. Original phrase: \"i need to order more checks\". Don’t use the words “checks”, \"ordering\" or “checkbook” in your responses.\n",
      "location\n",
      "Rephrase an original question or statement 5 times. Original phrase: \"where's the nearest bank?\". Don’t use the words “atm”, \"nearest\" or “closest” in your responses.\n",
      "Rephrase an original question or statement 5 times. Original phrase: \"i need to find an atm\". Don’t use the words “atm”, \"nearest\" or “closest” in your responses.\n",
      "Rephrase an original question or statement 5 times. Original phrase: \"how do i get to the nearest branch?\". Don’t use the words “atm”, \"nearest\" or “closest” in your responses.\n",
      "close\n",
      "Rephrase an original question or statement 5 times. Original phrase: \"what's the proper way to close my account?\". Don’t use the words “account”, \"close\" or “closing” in your responses.\n",
      "Rephrase an original question or statement 5 times. Original phrase: \"i want to close a bank acount\". Don’t use the words “account”, \"close\" or “closing” in your responses.\n",
      "Rephrase an original question or statement 5 times. Original phrase: \"how do i close an account?\". Don’t use the words “account”, \"close\" or “closing” in your responses.\n",
      "withdrawal\n",
      "Rephrase an original question or statement 5 times. Original phrase: \"what is my withdrawal limit?\". Don’t use the words “withdraw”, \"limit\" or “withdrawals” in your responses.\n",
      "Rephrase an original question or statement 5 times. Original phrase: \"how high is my withdrawal limit?\". Don’t use the words “withdraw”, \"limit\" or “withdrawals” in your responses.\n",
      "Rephrase an original question or statement 5 times. Original phrase: \"how much money can i withdraw at once?\". Don’t use the words “withdraw”, \"limit\" or “withdrawals” in your responses.\n",
      "routing\n",
      "Rephrase an original question or statement 5 times. Original phrase: \"what is my bank's routing number?\". Don’t use the words “routing”, \"number\" or “help” in your responses.\n",
      "Rephrase an original question or statement 5 times. Original phrase: \"i need the routing number for my bank\". Don’t use the words “routing”, \"number\" or “help” in your responses.\n",
      "Rephrase an original question or statement 5 times. Original phrase: \"how do i find my routing number?\". Don’t use the words “routing”, \"number\" or “help” in your responses.\n",
      "balance\n",
      "Rephrase an original question or statement 5 times. Original phrase: \"how do i check my account balance?\". Don’t use the words “balance”, \"have\" or “in” in your responses.\n",
      "Rephrase an original question or statement 5 times. Original phrase: \"how much money do i have?\". Don’t use the words “balance”, \"have\" or “in” in your responses.\n",
      "Rephrase an original question or statement 5 times. Original phrase: \"what's my balance?\". Don’t use the words “balance”, \"have\" or “in” in your responses.\n"
     ]
    }
   ],
   "source": [
    "for key in dct_final_prompts:\n",
    "    print(key)\n",
    "    dct_responses[key] = []\n",
    "    for prompt in dct_final_prompts[key]:\n",
    "        print(prompt)\n",
    "        response = request_with_checks(prompt)\n",
    "        dct_responses[key].append(response)\n",
    "        time.sleep(20)"
   ]
  },
  {
   "cell_type": "code",
   "execution_count": 78,
   "id": "81559645",
   "metadata": {},
   "outputs": [],
   "source": [
    "with open('responses_taboo_1.pkl', 'wb') as file:\n",
    "    pickle.dump(dct_responses, file)"
   ]
  },
  {
   "cell_type": "code",
   "execution_count": 79,
   "id": "0889ba15",
   "metadata": {},
   "outputs": [],
   "source": [
    "dct_df = {'intent': [], 'text': []}\n",
    "for key in dct_responses:\n",
    "    for responses in dct_responses[key]:\n",
    "        for response in responses['choices']:\n",
    "            contents = response['message']['content'].split('\\n')\n",
    "            for content in contents:\n",
    "                dct_df['intent'].append(key)\n",
    "                dct_df['text'].append(content[3:])"
   ]
  },
  {
   "cell_type": "code",
   "execution_count": 80,
   "id": "78336a0e",
   "metadata": {},
   "outputs": [],
   "source": [
    "chatGpt_1 = pd.DataFrame.from_dict(dct_df)"
   ]
  },
  {
   "cell_type": "code",
   "execution_count": 81,
   "id": "c7e8cf1d",
   "metadata": {},
   "outputs": [],
   "source": [
    "chatGpt_1.drop_duplicates(subset=['text']).dropna('text').to_csv('chatGPT_taboo_1.csv', index=False)"
   ]
  },
  {
   "cell_type": "markdown",
   "id": "ba7cb293",
   "metadata": {},
   "source": [
    "## 3. TABOO 2"
   ]
  },
  {
   "cell_type": "code",
   "execution_count": 8,
   "id": "6b7f4bf7",
   "metadata": {},
   "outputs": [],
   "source": [
    "import json \n",
    "\n",
    "# Opening JSON file\n",
    "dct_dataframe = {'text': [], 'intent': []}\n",
    "\n",
    "f = open('./taboo_data/robust_data_collection/intent_classification/taboo_2_config.json')\n",
    "\n",
    "# returns JSON object as \n",
    "# a dictionary\n",
    "data = json.load(f)\n",
    "\n",
    "# Closing file\n",
    "f.close()"
   ]
  },
  {
   "cell_type": "code",
   "execution_count": 9,
   "id": "37147df3",
   "metadata": {},
   "outputs": [],
   "source": [
    "dct_phrases = {}\n",
    "dct_taboo = {}\n",
    "for key in data:\n",
    "    dct_phrases[key] = data[key]['phrases']\n",
    "    dct_taboo[key] = data[key]['avoid_words']"
   ]
  },
  {
   "cell_type": "code",
   "execution_count": 10,
   "id": "019750c3",
   "metadata": {},
   "outputs": [],
   "source": [
    "defaul_taboo_prompt = 'Rephrase an original question or statement 5 times. Original phrase: \"{}\". Don’t use the words “{}”, \"{}\", \"{}\", \"{}\", \"{}\" or “{}” in your responses.'"
   ]
  },
  {
   "cell_type": "code",
   "execution_count": 11,
   "id": "4a757c30",
   "metadata": {},
   "outputs": [],
   "source": [
    "dct_final_prompts = {}\n",
    "\n",
    "for key in dct_phrases:\n",
    "    dct_final_prompts[key] = []\n",
    "    for phrase in dct_phrases[key]:\n",
    "        dct_final_prompts[key].append(defaul_taboo_prompt.format(phrase, dct_taboo[key][0], dct_taboo[key][1], dct_taboo[key][2], dct_taboo[key][3], dct_taboo[key][4], dct_taboo[key][5]))"
   ]
  },
  {
   "cell_type": "code",
   "execution_count": 17,
   "id": "023b1da0",
   "metadata": {
    "collapsed": true
   },
   "outputs": [
    {
     "name": "stdout",
     "output_type": "stream",
     "text": [
      "phone\n",
      "Rephrase an original question or statement 5 times. Original phrase: \"what's the phone number of my bank\". Don’t use the words “number”, \"call\", \"contact\", \"phone\", \"reach\" or “connect” in your responses.\n",
      "Rephrase an original question or statement 5 times. Original phrase: \"what number do i call to reach my bank\". Don’t use the words “number”, \"call\", \"contact\", \"phone\", \"reach\" or “connect” in your responses.\n",
      "Rephrase an original question or statement 5 times. Original phrase: \"what's my bank's phone number\". Don’t use the words “number”, \"call\", \"contact\", \"phone\", \"reach\" or “connect” in your responses.\n",
      "appointment\n",
      "Rephrase an original question or statement 5 times. Original phrase: \"i would like to meet with a bank representative\". Don’t use the words “appointment”, \"representative\", \"meeting\", \"meet\", \"consultation\" or “discuss” in your responses.\n",
      "Rephrase an original question or statement 5 times. Original phrase: \"can i schedule an appointment with someone at the bank?\". Don’t use the words “appointment”, \"representative\", \"meeting\", \"meet\", \"consultation\" or “discuss” in your responses.\n",
      "Rephrase an original question or statement 5 times. Original phrase: \"how do i set up an appointment at the bank?\". Don’t use the words “appointment”, \"representative\", \"meeting\", \"meet\", \"consultation\" or “discuss” in your responses.\n",
      "hours\n",
      "Rephrase an original question or statement 5 times. Original phrase: \"what time does the bank open?\". Don’t use the words “hours”, \"open\", \"time\", \"when\", \"early\" or “latest” in your responses.\n",
      "Rephrase an original question or statement 5 times. Original phrase: \"can you check my bank's hours?\". Don’t use the words “hours”, \"open\", \"time\", \"when\", \"early\" or “latest” in your responses.\n",
      "Rephrase an original question or statement 5 times. Original phrase: \"when does the bank close?\". Don’t use the words “hours”, \"open\", \"time\", \"when\", \"early\" or “latest” in your responses.\n",
      "safe\n",
      "Rephrase an original question or statement 5 times. Original phrase: \"how do i get a safe deposit box?\". Don’t use the words “deposit”, \"box\", \"boxes\", \"valuables\", \"store\" or “storage” in your responses.\n",
      "Rephrase an original question or statement 5 times. Original phrase: \"i would like to get a safety deposit box at my bank\". Don’t use the words “deposit”, \"box\", \"boxes\", \"valuables\", \"store\" or “storage” in your responses.\n",
      "Rephrase an original question or statement 5 times. Original phrase: \"i want information on getting a safe deposit box\". Don’t use the words “deposit”, \"box\", \"boxes\", \"valuables\", \"store\" or “storage” in your responses.\n",
      "checks\n",
      "Rephrase an original question or statement 5 times. Original phrase: \"how do i order more checks?\". Don’t use the words “checks”, \"ordering\", \"checkbook\", \"drafts\", \"more\" or “slips” in your responses.\n",
      "Rephrase an original question or statement 5 times. Original phrase: \"my checkbook is empty can i order more\". Don’t use the words “checks”, \"ordering\", \"checkbook\", \"drafts\", \"more\" or “slips” in your responses.\n",
      "Rephrase an original question or statement 5 times. Original phrase: \"i need to order more checks\". Don’t use the words “checks”, \"ordering\", \"checkbook\", \"drafts\", \"more\" or “slips” in your responses.\n",
      "location\n",
      "Rephrase an original question or statement 5 times. Original phrase: \"where's the nearest bank?\". Don’t use the words “atm”, \"nearest\", \"closest\", \"branch\", \"nearby\" or “near” in your responses.\n",
      "Rephrase an original question or statement 5 times. Original phrase: \"i need to find an atm\". Don’t use the words “atm”, \"nearest\", \"closest\", \"branch\", \"nearby\" or “near” in your responses.\n",
      "Rephrase an original question or statement 5 times. Original phrase: \"how do i get to the nearest branch?\". Don’t use the words “atm”, \"nearest\", \"closest\", \"branch\", \"nearby\" or “near” in your responses.\n",
      "close\n",
      "Rephrase an original question or statement 5 times. Original phrase: \"what's the proper way to close my account?\". Don’t use the words “account”, \"close\", \"closing\", \"leave\", \"end\" or “rid” in your responses.\n",
      "Rephrase an original question or statement 5 times. Original phrase: \"i want to close a bank acount\". Don’t use the words “account”, \"close\", \"closing\", \"leave\", \"end\" or “rid” in your responses.\n",
      "Rephrase an original question or statement 5 times. Original phrase: \"how do i close an account?\". Don’t use the words “account”, \"close\", \"closing\", \"leave\", \"end\" or “rid” in your responses.\n",
      "withdrawal\n",
      "Rephrase an original question or statement 5 times. Original phrase: \"what is my withdrawal limit?\". Don’t use the words “withdraw”, \"limit\", \"withdrawals\", \"max\", \"maximum\" or “cap” in your responses.\n",
      "Rephrase an original question or statement 5 times. Original phrase: \"how high is my withdrawal limit?\". Don’t use the words “withdraw”, \"limit\", \"withdrawals\", \"max\", \"maximum\" or “cap” in your responses.\n",
      "Rephrase an original question or statement 5 times. Original phrase: \"how much money can i withdraw at once?\". Don’t use the words “withdraw”, \"limit\", \"withdrawals\", \"max\", \"maximum\" or “cap” in your responses.\n",
      "routing\n",
      "Rephrase an original question or statement 5 times. Original phrase: \"what is my bank's routing number?\". Don’t use the words “routing”, \"number\", \"help\", \"rtn\", \"identifier\" or “route” in your responses.\n",
      "Rephrase an original question or statement 5 times. Original phrase: \"i need the routing number for my bank\". Don’t use the words “routing”, \"number\", \"help\", \"rtn\", \"identifier\" or “route” in your responses.\n",
      "Rephrase an original question or statement 5 times. Original phrase: \"how do i find my routing number?\". Don’t use the words “routing”, \"number\", \"help\", \"rtn\", \"identifier\" or “route” in your responses.\n",
      "balance\n",
      "Rephrase an original question or statement 5 times. Original phrase: \"how do i check my account balance?\". Don’t use the words “balance”, \"have\", \"in\", \"dollars\", \"quantity\" or “amount” in your responses.\n",
      "Rephrase an original question or statement 5 times. Original phrase: \"how much money do i have?\". Don’t use the words “balance”, \"have\", \"in\", \"dollars\", \"quantity\" or “amount” in your responses.\n",
      "Rephrase an original question or statement 5 times. Original phrase: \"what's my balance?\". Don’t use the words “balance”, \"have\", \"in\", \"dollars\", \"quantity\" or “amount” in your responses.\n",
      "Wall time: 45min 39s\n"
     ]
    }
   ],
   "source": [
    "%%time\n",
    "\n",
    "for key in dct_final_prompts:\n",
    "    print(key)\n",
    "    dct_responses[key] = []\n",
    "    for prompt in dct_final_prompts[key]:\n",
    "        print(prompt)\n",
    "        response = request_with_checks(prompt)\n",
    "        dct_responses[key].append(response)\n",
    "        time.sleep(20)"
   ]
  },
  {
   "cell_type": "code",
   "execution_count": 18,
   "id": "98b8d461",
   "metadata": {},
   "outputs": [],
   "source": [
    "with open('responses_taboo_2.pkl', 'wb') as file:\n",
    "    pickle.dump(dct_responses, file)"
   ]
  },
  {
   "cell_type": "code",
   "execution_count": 2,
   "id": "404a76b6",
   "metadata": {},
   "outputs": [],
   "source": [
    "dct_df = {'intent': [], 'text': []}\n",
    "for key in dct_responses:\n",
    "    for responses in dct_responses[key]:\n",
    "        for response in responses['choices']:\n",
    "            contents = response['message']['content'].split('\\n')\n",
    "            for content in contents:\n",
    "                dct_df['intent'].append(key)\n",
    "                dct_df['text'].append(content[3:])"
   ]
  },
  {
   "cell_type": "code",
   "execution_count": 4,
   "id": "d653d258",
   "metadata": {},
   "outputs": [],
   "source": [
    "import pandas as pd\n",
    "chatGpt_2 = pd.DataFrame.from_dict(dct_df)"
   ]
  },
  {
   "cell_type": "code",
   "execution_count": 5,
   "id": "017dac57",
   "metadata": {},
   "outputs": [],
   "source": [
    "chatGpt_2.to_csv('chatGPT_taboo_2.csv', index=False)"
   ]
  },
  {
   "cell_type": "markdown",
   "id": "1cb226ce",
   "metadata": {},
   "source": [
    "## 4. Prepare the datasets - combine the collected rounds into final prompt and taboo datasets"
   ]
  },
  {
   "cell_type": "code",
   "execution_count": 7,
   "id": "4e20bd79",
   "metadata": {},
   "outputs": [],
   "source": [
    "dct = {'phone': 0,\n",
    " 'appointment': 1,\n",
    " 'hours': 2,\n",
    " 'safe': 3,\n",
    " 'checks': 4,\n",
    " 'location': 5,\n",
    " 'close': 6,\n",
    " 'withdrawal': 7,\n",
    " 'routing': 8,\n",
    " 'balance': 9}\n",
    "\n",
    "def function(x):\n",
    "    return dct[x]"
   ]
  },
  {
   "cell_type": "code",
   "execution_count": 6,
   "id": "5cbd4c04",
   "metadata": {},
   "outputs": [],
   "source": [
    "same_0_gpt = pd.read_csv('chatGPT_0.csv').dropna(subset=['text'])\n",
    "same_1_gpt = pd.read_csv('chatGPT_1.csv').dropna(subset=['text'])\n",
    "same_2_gpt = pd.read_csv('chatGPT_2.csv').dropna(subset=['text'])"
   ]
  },
  {
   "cell_type": "code",
   "execution_count": 8,
   "id": "91447178",
   "metadata": {},
   "outputs": [],
   "source": [
    "same_0_gpt['label'] = same_0_gpt['intent'].apply(function)\n",
    "same_0_gpt = same_0_gpt.sample(frac=1).reset_index(drop=True)\n",
    "\n",
    "same_1_gpt['label'] = same_1_gpt['intent'].apply(function)\n",
    "same_1_gpt = same_1_gpt.sample(frac=1).reset_index(drop=True)\n",
    "\n",
    "same_2_gpt['label'] = same_2_gpt['intent'].apply(function)\n",
    "same_2_gpt = same_2_gpt.sample(frac=1).reset_index(drop=True)"
   ]
  },
  {
   "cell_type": "code",
   "execution_count": 16,
   "id": "3e17565f",
   "metadata": {},
   "outputs": [],
   "source": [
    "same_gpt_12 = same_1_gpt.append(same_2_gpt).drop_duplicates(subset=['text']).dropna(subset=['text'])"
   ]
  },
  {
   "cell_type": "code",
   "execution_count": 17,
   "id": "3e8925ab",
   "metadata": {},
   "outputs": [],
   "source": [
    "same_gpt_12[['text', 'label']].to_csv('gpt_datasets/prompt_gpt_12.csv', index=False)"
   ]
  },
  {
   "cell_type": "code",
   "execution_count": 18,
   "id": "e52bab5c",
   "metadata": {},
   "outputs": [],
   "source": [
    "same_0_gpt[['text', 'label']].drop_duplicates(subset=['text']).dropna(subset=['text']).to_csv('gpt_datasets/prompt_gpt_0.csv', index=False)"
   ]
  },
  {
   "cell_type": "code",
   "execution_count": 25,
   "id": "e3b5d837",
   "metadata": {},
   "outputs": [],
   "source": [
    "taboo_1_gpt = pd.read_csv('chatGPT_taboo_1.csv').dropna(subset=['text'])\n",
    "taboo_2_gpt = pd.read_csv('chatGPT_taboo_2.csv').dropna(subset=['text'])"
   ]
  },
  {
   "cell_type": "code",
   "execution_count": 35,
   "id": "9a6aae89",
   "metadata": {},
   "outputs": [],
   "source": [
    "taboo_1_gpt['label'] = taboo_1_gpt['intent'].apply(function)\n",
    "taboo_1_gpt = taboo_1_gpt.sample(frac=1).reset_index(drop=True)\n",
    "\n",
    "taboo_2_gpt['label'] = taboo_2_gpt['intent'].apply(function)\n",
    "taboo_2_gpt = taboo_2_gpt.sample(frac=1).reset_index(drop=True)"
   ]
  },
  {
   "cell_type": "code",
   "execution_count": 21,
   "id": "b24e559a",
   "metadata": {},
   "outputs": [],
   "source": [
    "taboo_gpt_12 = taboo_1_gpt.append(taboo_2_gpt).drop_duplicates(subset=['text']).dropna(subset=['text'])"
   ]
  },
  {
   "cell_type": "code",
   "execution_count": 22,
   "id": "61feec43",
   "metadata": {},
   "outputs": [],
   "source": [
    "taboo_gpt_12[['text', 'label']].to_csv('gpt_datasets/taboo_gpt_12.csv', index=False)"
   ]
  },
  {
   "cell_type": "code",
   "execution_count": 36,
   "id": "7492efb3",
   "metadata": {},
   "outputs": [],
   "source": [
    "# Now the filtering for taboo words\n",
    "\n",
    "f = open('./taboo_data/robust_data_collection/intent_classification/taboo_1_config.json')\n",
    "data = json.load(f)\n",
    "f.close()\n",
    "\n",
    "dct_taboo = {}\n",
    "for key in data:\n",
    "    dct_taboo[key] = data[key]['avoid_words']\n",
    "\n",
    "def are_taboo_words_in(x, y, dct_taboo_w):\n",
    "    words = x.replace('\"', '').split()\n",
    "    forb_words = dct_taboo_w[y]\n",
    "    for word in forb_words:\n",
    "        if word in words:\n",
    "            return False\n",
    "    return True\n",
    "\n",
    "taboo_1_gpt['no_taboo_words'] = taboo_1_gpt.apply(lambda x: are_taboo_words_in(x['text'], x['intent'], dct_taboo), axis=1)\n",
    "taboo_1_gpt = taboo_1_gpt[taboo_1_gpt['no_taboo_words'] == True]\n",
    "\n",
    "f = open('./taboo_data/robust_data_collection/intent_classification/taboo_2_config.json')\n",
    "data = json.load(f)\n",
    "f.close()\n",
    "\n",
    "dct_taboo = {}\n",
    "for key in data:\n",
    "    dct_taboo[key] = data[key]['avoid_words']\n",
    "\n",
    "taboo_2_gpt['no_taboo_words'] = taboo_2_gpt.apply(lambda x: are_taboo_words_in(x['text'], x['intent'], dct_taboo), axis=1)\n",
    "taboo_2_gpt = taboo_2_gpt[taboo_2_gpt['no_taboo_words'] == True]"
   ]
  },
  {
   "cell_type": "code",
   "execution_count": 37,
   "id": "285932aa",
   "metadata": {},
   "outputs": [],
   "source": [
    "taboo_gpt_12_filt = taboo_1_gpt.append(taboo_2_gpt).drop_duplicates(subset=['text']).dropna(subset=['text'])"
   ]
  },
  {
   "cell_type": "code",
   "execution_count": 38,
   "id": "2e05c26f",
   "metadata": {},
   "outputs": [],
   "source": [
    "taboo_gpt_12_filt[['text', 'label']].to_csv('gpt_datasets/taboo_gpt_12_filt.csv', index=False) # contains taboo words"
   ]
  },
  {
   "cell_type": "markdown",
   "id": "d942c5cd",
   "metadata": {},
   "source": [
    "## 5. NOW THE DATA PREP FROM THE LARSON ET AL. 2020 STUDY\n",
    "\n",
    "#### These csv files were created by changing the existing jsons from the study into csv files, I recommend skipping this and doing it on your own\n",
    "\n",
    "Keep in mind, that the prompt 0 split is contained in all the datasets, so the 1 and 2 splits for both taboo and prompt methods should be kept separately"
   ]
  },
  {
   "cell_type": "code",
   "execution_count": 48,
   "id": "21c4a0fd",
   "metadata": {
    "scrolled": true
   },
   "outputs": [],
   "source": [
    "same_0 = pd.read_csv('larson_same_0.csv')\n",
    "same_0['label'] = same_0['intent'].apply(function)\n",
    "same_0 = same_0.sample(frac=1).reset_index(drop=True)\n",
    "\n",
    "taboo_1 = pd.read_csv('larson_taboo_1.csv')\n",
    "taboo_2 = pd.read_csv('larson_taboo_2.csv')\n",
    "\n",
    "taboo_1['label'] = taboo_1['intent'].apply(function)\n",
    "taboo_2['label'] = taboo_2['intent'].apply(function)"
   ]
  },
  {
   "cell_type": "code",
   "execution_count": 49,
   "id": "3a47810f",
   "metadata": {},
   "outputs": [],
   "source": [
    "taboo_h = taboo_1.append(taboo_2).drop_duplicates(subset=['text']).dropna(subset=['text'])"
   ]
  },
  {
   "cell_type": "code",
   "execution_count": 50,
   "id": "d73ce8e3",
   "metadata": {},
   "outputs": [],
   "source": [
    "taboo_h[['text', 'label']].to_csv('gpt_datasets/taboo_h_12.csv', index=False) # contains taboo words"
   ]
  },
  {
   "cell_type": "code",
   "execution_count": 51,
   "id": "f87c549f",
   "metadata": {},
   "outputs": [],
   "source": [
    "same_0[['text', 'label']].to_csv('gpt_datasets/prompt_0_h.csv', index=False)"
   ]
  },
  {
   "cell_type": "code",
   "execution_count": 52,
   "id": "7594cbc4",
   "metadata": {},
   "outputs": [],
   "source": [
    "same_1 = pd.read_csv('larson_same_1.csv')\n",
    "same_1['label'] = same_1['intent'].apply(function)\n",
    "same_1 = same_1.sample(frac=1).reset_index(drop=True)\n",
    "\n",
    "same_2 = pd.read_csv('larson_same_2.csv')\n",
    "same_2['label'] = same_2['intent'].apply(function)\n",
    "same_2 = same_2.sample(frac=1).reset_index(drop=True)"
   ]
  },
  {
   "cell_type": "code",
   "execution_count": 53,
   "id": "4eaef334",
   "metadata": {},
   "outputs": [],
   "source": [
    "same_h = same_1.append(same_2).drop_duplicates(subset=['text']).dropna(subset=['text'])"
   ]
  },
  {
   "cell_type": "code",
   "execution_count": 54,
   "id": "59484a7e",
   "metadata": {},
   "outputs": [],
   "source": [
    "same_h[['text', 'label']].to_csv('gpt_datasets/same_h_12.csv', index=False) # contains taboo words"
   ]
  }
 ],
 "metadata": {
  "kernelspec": {
   "display_name": "Python 3 (ipykernel)",
   "language": "python",
   "name": "python3"
  },
  "language_info": {
   "codemirror_mode": {
    "name": "ipython",
    "version": 3
   },
   "file_extension": ".py",
   "mimetype": "text/x-python",
   "name": "python",
   "nbconvert_exporter": "python",
   "pygments_lexer": "ipython3",
   "version": "3.9.7"
  }
 },
 "nbformat": 4,
 "nbformat_minor": 5
}
