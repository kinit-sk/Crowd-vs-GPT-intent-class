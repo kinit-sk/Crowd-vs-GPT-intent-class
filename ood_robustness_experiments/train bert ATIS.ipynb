{
 "cells": [
  {
   "cell_type": "markdown",
   "id": "da58aeee",
   "metadata": {},
   "source": [
    "### This notebook has been run multiple times to ensure the results in the paper"
   ]
  },
  {
   "cell_type": "code",
   "execution_count": 1,
   "id": "a2e415a4",
   "metadata": {},
   "outputs": [
    {
     "name": "stderr",
     "output_type": "stream",
     "text": [
      "/opt/anacondas/anaconda3/envs/EMNLP/lib/python3.9/site-packages/tqdm/auto.py:21: TqdmWarning: IProgress not found. Please update jupyter and ipywidgets. See https://ipywidgets.readthedocs.io/en/stable/user_install.html\n",
      "  from .autonotebook import tqdm as notebook_tqdm\n",
      "Found cached dataset csv (/home/jan_cegin/.cache/huggingface/datasets/csv/default-039df806f9f61e43/0.0.0/6954658bab30a358235fa864b05cf819af0e179325c740e4bc853bcc7ec513e1)\n"
     ]
    }
   ],
   "source": [
    "from datasets import load_dataset\n",
    "\n",
    "\n",
    "dataset = load_dataset(\"csv\", data_files=\"challenge_data/atis/full_atis_filt_gpt.csv\", split='train', keep_default_na=False)\n",
    "\n",
    "dct_dataset = dataset.train_test_split(test_size=0.4) # this changes based on the dataset\n",
    "\n",
    "dataset_train = dct_dataset['train']\n",
    "dataset_test = dct_dataset['test']"
   ]
  },
  {
   "cell_type": "code",
   "execution_count": 3,
   "id": "5e111765",
   "metadata": {},
   "outputs": [
    {
     "name": "stderr",
     "output_type": "stream",
     "text": [
      "                                                                                                                                                                  \r"
     ]
    }
   ],
   "source": [
    "from transformers import AutoTokenizer\n",
    "\n",
    "tokenizer = AutoTokenizer.from_pretrained(\"bert-large-uncased\")\n",
    "\n",
    "\n",
    "def tokenize_function(examples):\n",
    "    return tokenizer(examples[\"text\"], padding=\"max_length\", truncation=True)\n",
    "\n",
    "\n",
    "tokenized_datasets = dataset_train.map(tokenize_function, batched=True)\n",
    "tokenized_test_datasets = dataset_test.map(tokenize_function, batched=True)"
   ]
  },
  {
   "cell_type": "code",
   "execution_count": 4,
   "id": "225ca95f",
   "metadata": {},
   "outputs": [
    {
     "name": "stderr",
     "output_type": "stream",
     "text": [
      "Some weights of the model checkpoint at bert-large-uncased were not used when initializing BertForSequenceClassification: ['cls.predictions.transform.dense.bias', 'cls.seq_relationship.bias', 'cls.predictions.decoder.weight', 'cls.seq_relationship.weight', 'cls.predictions.transform.LayerNorm.bias', 'cls.predictions.transform.dense.weight', 'cls.predictions.bias', 'cls.predictions.transform.LayerNorm.weight']\n",
      "- This IS expected if you are initializing BertForSequenceClassification from the checkpoint of a model trained on another task or with another architecture (e.g. initializing a BertForSequenceClassification model from a BertForPreTraining model).\n",
      "- This IS NOT expected if you are initializing BertForSequenceClassification from the checkpoint of a model that you expect to be exactly identical (initializing a BertForSequenceClassification model from a BertForSequenceClassification model).\n",
      "Some weights of BertForSequenceClassification were not initialized from the model checkpoint at bert-large-uncased and are newly initialized: ['classifier.bias', 'classifier.weight']\n",
      "You should probably TRAIN this model on a down-stream task to be able to use it for predictions and inference.\n"
     ]
    }
   ],
   "source": [
    "from transformers import AutoModelForSequenceClassification\n",
    "\n",
    "model = AutoModelForSequenceClassification.from_pretrained(\"bert-large-uncased\", num_labels=6)"
   ]
  },
  {
   "cell_type": "code",
   "execution_count": 5,
   "id": "856c7634",
   "metadata": {},
   "outputs": [],
   "source": [
    "from transformers import TrainingArguments\n",
    "\n",
    "training_args = TrainingArguments(output_dir=\"bert_taboo\")\n",
    "\n",
    "import numpy as np\n",
    "import evaluate\n",
    "\n",
    "metric = evaluate.load(\"accuracy\")\n",
    "\n",
    "def compute_metrics(eval_pred):\n",
    "    logits, labels = eval_pred\n",
    "    predictions = np.argmax(logits, axis=-1)\n",
    "    return metric.compute(predictions=predictions, references=labels)\n",
    "\n",
    "from transformers import TrainingArguments, Trainer\n",
    "\n",
    "training_args = TrainingArguments(output_dir=\"bert_taboo\", evaluation_strategy=\"no\", save_strategy=\"no\", per_device_eval_batch_size=32, per_device_train_batch_size=4, learning_rate=1e-5, num_train_epochs=5, save_steps=3000)"
   ]
  },
  {
   "cell_type": "code",
   "execution_count": 6,
   "id": "77802c34",
   "metadata": {},
   "outputs": [],
   "source": [
    "trainer = Trainer(\n",
    "    model=model,\n",
    "    args=training_args,\n",
    "    train_dataset=tokenized_datasets,\n",
    "    compute_metrics=compute_metrics\n",
    ")"
   ]
  },
  {
   "cell_type": "markdown",
   "id": "9ec705ea",
   "metadata": {},
   "source": [
    "#### evaluating on different data\n",
    "\n",
    "different datasets are used based on the data, e.g. for GPT train we dont evaluate on GPT filt (without taboo samples) separately, because it does not make sense"
   ]
  },
  {
   "cell_type": "code",
   "execution_count": 7,
   "id": "1878f6ec",
   "metadata": {
    "scrolled": true
   },
   "outputs": [
    {
     "name": "stderr",
     "output_type": "stream",
     "text": [
      "The following columns in the training set don't have a corresponding argument in `BertForSequenceClassification.forward` and have been ignored: text. If text are not expected by `BertForSequenceClassification.forward`,  you can safely ignore this message.\n",
      "/opt/anacondas/anaconda3/envs/EMNLP/lib/python3.9/site-packages/transformers/optimization.py:306: FutureWarning: This implementation of AdamW is deprecated and will be removed in a future version. Use the PyTorch implementation torch.optim.AdamW instead, or set `no_deprecation_warning=True` to disable this warning\n",
      "  warnings.warn(\n",
      "***** Running training *****\n",
      "  Num examples = 2652\n",
      "  Num Epochs = 5\n",
      "  Instantaneous batch size per device = 4\n",
      "  Total train batch size (w. parallel, distributed & accumulation) = 4\n",
      "  Gradient Accumulation steps = 1\n",
      "  Total optimization steps = 3315\n",
      "  Number of trainable parameters = 335148038\n"
     ]
    },
    {
     "data": {
      "text/html": [
       "\n",
       "    <div>\n",
       "      \n",
       "      <progress value='3315' max='3315' style='width:300px; height:20px; vertical-align: middle;'></progress>\n",
       "      [3315/3315 33:15, Epoch 5/5]\n",
       "    </div>\n",
       "    <table border=\"1\" class=\"dataframe\">\n",
       "  <thead>\n",
       " <tr style=\"text-align: left;\">\n",
       "      <th>Step</th>\n",
       "      <th>Training Loss</th>\n",
       "    </tr>\n",
       "  </thead>\n",
       "  <tbody>\n",
       "    <tr>\n",
       "      <td>500</td>\n",
       "      <td>0.699400</td>\n",
       "    </tr>\n",
       "    <tr>\n",
       "      <td>1000</td>\n",
       "      <td>0.129800</td>\n",
       "    </tr>\n",
       "    <tr>\n",
       "      <td>1500</td>\n",
       "      <td>0.069900</td>\n",
       "    </tr>\n",
       "    <tr>\n",
       "      <td>2000</td>\n",
       "      <td>0.023400</td>\n",
       "    </tr>\n",
       "    <tr>\n",
       "      <td>2500</td>\n",
       "      <td>0.008600</td>\n",
       "    </tr>\n",
       "    <tr>\n",
       "      <td>3000</td>\n",
       "      <td>0.002200</td>\n",
       "    </tr>\n",
       "  </tbody>\n",
       "</table><p>"
      ],
      "text/plain": [
       "<IPython.core.display.HTML object>"
      ]
     },
     "metadata": {},
     "output_type": "display_data"
    },
    {
     "name": "stderr",
     "output_type": "stream",
     "text": [
      "\n",
      "\n",
      "Training completed. Do not forget to share your model on huggingface.co/models =)\n",
      "\n",
      "\n"
     ]
    },
    {
     "data": {
      "text/plain": [
       "TrainOutput(global_step=3315, training_loss=0.14081988006066054, metrics={'train_runtime': 1998.6648, 'train_samples_per_second': 6.634, 'train_steps_per_second': 1.659, 'total_flos': 1.235757689008128e+16, 'train_loss': 0.14081988006066054, 'epoch': 5.0})"
      ]
     },
     "execution_count": 7,
     "metadata": {},
     "output_type": "execute_result"
    }
   ],
   "source": [
    "trainer.train()"
   ]
  },
  {
   "cell_type": "code",
   "execution_count": 8,
   "id": "052dc745",
   "metadata": {
    "scrolled": true
   },
   "outputs": [
    {
     "name": "stderr",
     "output_type": "stream",
     "text": [
      "The following columns in the evaluation set don't have a corresponding argument in `BertForSequenceClassification.forward` and have been ignored: text. If text are not expected by `BertForSequenceClassification.forward`,  you can safely ignore this message.\n",
      "***** Running Evaluation *****\n",
      "  Num examples = 1768\n",
      "  Batch size = 32\n"
     ]
    },
    {
     "data": {
      "text/html": [
       "\n",
       "    <div>\n",
       "      \n",
       "      <progress value='95' max='56' style='width:300px; height:20px; vertical-align: middle;'></progress>\n",
       "      [56/56 02:11]\n",
       "    </div>\n",
       "    "
      ],
      "text/plain": [
       "<IPython.core.display.HTML object>"
      ]
     },
     "metadata": {},
     "output_type": "display_data"
    },
    {
     "data": {
      "text/plain": [
       "{'eval_loss': 0.06197355315089226,\n",
       " 'eval_accuracy': 0.9903846153846154,\n",
       " 'eval_runtime': 77.4275,\n",
       " 'eval_samples_per_second': 22.834,\n",
       " 'eval_steps_per_second': 0.723,\n",
       " 'epoch': 5.0}"
      ]
     },
     "execution_count": 8,
     "metadata": {},
     "output_type": "execute_result"
    }
   ],
   "source": [
    "trainer.evaluate(tokenized_test_datasets)"
   ]
  },
  {
   "cell_type": "code",
   "execution_count": 9,
   "id": "dc36ccbe",
   "metadata": {},
   "outputs": [
    {
     "name": "stderr",
     "output_type": "stream",
     "text": [
      "Found cached dataset csv (/home/jan_cegin/.cache/huggingface/datasets/csv/default-9c4e2671d2ed7fe2/0.0.0/6954658bab30a358235fa864b05cf819af0e179325c740e4bc853bcc7ec513e1)\n",
      "Found cached dataset csv (/home/jan_cegin/.cache/huggingface/datasets/csv/default-79efc8bf879faff6/0.0.0/6954658bab30a358235fa864b05cf819af0e179325c740e4bc853bcc7ec513e1)\n",
      "Loading cached split indices for dataset at /home/jan_cegin/.cache/huggingface/datasets/csv/default-79efc8bf879faff6/0.0.0/6954658bab30a358235fa864b05cf819af0e179325c740e4bc853bcc7ec513e1/cache-ad72a84db2bdf0c5.arrow and /home/jan_cegin/.cache/huggingface/datasets/csv/default-79efc8bf879faff6/0.0.0/6954658bab30a358235fa864b05cf819af0e179325c740e4bc853bcc7ec513e1/cache-2d0f07840078757d.arrow\n",
      "Found cached dataset csv (/home/jan_cegin/.cache/huggingface/datasets/csv/default-706f538ba598c911/0.0.0/6954658bab30a358235fa864b05cf819af0e179325c740e4bc853bcc7ec513e1)\n",
      "Loading cached split indices for dataset at /home/jan_cegin/.cache/huggingface/datasets/csv/default-706f538ba598c911/0.0.0/6954658bab30a358235fa864b05cf819af0e179325c740e4bc853bcc7ec513e1/cache-161c97d99b26f199.arrow and /home/jan_cegin/.cache/huggingface/datasets/csv/default-706f538ba598c911/0.0.0/6954658bab30a358235fa864b05cf819af0e179325c740e4bc853bcc7ec513e1/cache-a26b8f8a536340c8.arrow\n",
      "Found cached dataset csv (/home/jan_cegin/.cache/huggingface/datasets/csv/default-039df806f9f61e43/0.0.0/6954658bab30a358235fa864b05cf819af0e179325c740e4bc853bcc7ec513e1)\n",
      "Loading cached split indices for dataset at /home/jan_cegin/.cache/huggingface/datasets/csv/default-039df806f9f61e43/0.0.0/6954658bab30a358235fa864b05cf819af0e179325c740e4bc853bcc7ec513e1/cache-31151b794fde1066.arrow and /home/jan_cegin/.cache/huggingface/datasets/csv/default-039df806f9f61e43/0.0.0/6954658bab30a358235fa864b05cf819af0e179325c740e4bc853bcc7ec513e1/cache-fd6a67d0a7f91bb2.arrow\n"
     ]
    }
   ],
   "source": [
    "dataset_orig_test = load_dataset(\"csv\", data_files=\"challenge_data/atis/full_atis_orig_test.csv\", split='train', keep_default_na=False)\n",
    "\n",
    "\n",
    "dataset = load_dataset(\"csv\", data_files=\"challenge_data/atis/full_atis_human.csv\", split='train', keep_default_na=False)\n",
    "\n",
    "dct_dataset = dataset.train_test_split(test_size=0.2)\n",
    "\n",
    "dataset_human_test = dct_dataset['test']\n",
    "\n",
    "\n",
    "dataset = load_dataset(\"csv\", data_files=\"challenge_data/atis/full_atis_gpt.csv\", split='train', keep_default_na=False)\n",
    "\n",
    "dct_dataset = dataset.train_test_split(test_size=0.2)\n",
    "\n",
    "dataset_gpt_test = dct_dataset['test']\n",
    "\n",
    "\n",
    "\n",
    "dataset = load_dataset(\"csv\", data_files=\"challenge_data/atis/full_atis_filt_gpt.csv\", split='train', keep_default_na=False)\n",
    "\n",
    "dct_dataset = dataset.train_test_split(test_size=0.2)\n",
    "\n",
    "dataset_gpt_test_filt = dct_dataset['test']"
   ]
  },
  {
   "cell_type": "code",
   "execution_count": 10,
   "id": "bee456f3",
   "metadata": {},
   "outputs": [
    {
     "name": "stderr",
     "output_type": "stream",
     "text": [
      "Loading cached processed dataset at /home/jan_cegin/.cache/huggingface/datasets/csv/default-9c4e2671d2ed7fe2/0.0.0/6954658bab30a358235fa864b05cf819af0e179325c740e4bc853bcc7ec513e1/cache-d1020f3c55d4f794.arrow\n",
      "Loading cached processed dataset at /home/jan_cegin/.cache/huggingface/datasets/csv/default-79efc8bf879faff6/0.0.0/6954658bab30a358235fa864b05cf819af0e179325c740e4bc853bcc7ec513e1/cache-6c808c704a6a4214.arrow\n",
      "Loading cached processed dataset at /home/jan_cegin/.cache/huggingface/datasets/csv/default-706f538ba598c911/0.0.0/6954658bab30a358235fa864b05cf819af0e179325c740e4bc853bcc7ec513e1/cache-c38e38d3027acb7a.arrow\n",
      "Loading cached processed dataset at /home/jan_cegin/.cache/huggingface/datasets/csv/default-039df806f9f61e43/0.0.0/6954658bab30a358235fa864b05cf819af0e179325c740e4bc853bcc7ec513e1/cache-89359e08b9dd5bba.arrow\n"
     ]
    }
   ],
   "source": [
    "tokenized_dataset_orig_t = dataset_orig_test.map(tokenize_function, batched=True)\n",
    "tokenized_dataset_h_t= dataset_human_test.map(tokenize_function, batched=True)\n",
    "tokenized_dataset_gpt = dataset_gpt_test.map(tokenize_function, batched=True)\n",
    "tokenized_dataset_gpt_filt = dataset_gpt_test_filt.map(tokenize_function, batched=True)"
   ]
  },
  {
   "cell_type": "code",
   "execution_count": 11,
   "id": "1fc0a5aa",
   "metadata": {},
   "outputs": [
    {
     "name": "stderr",
     "output_type": "stream",
     "text": [
      "The following columns in the evaluation set don't have a corresponding argument in `BertForSequenceClassification.forward` and have been ignored: text. If text are not expected by `BertForSequenceClassification.forward`,  you can safely ignore this message.\n",
      "***** Running Evaluation *****\n",
      "  Num examples = 759\n",
      "  Batch size = 32\n"
     ]
    },
    {
     "data": {
      "text/plain": [
       "{'eval_loss': 0.6873182654380798,\n",
       " 'eval_accuracy': 0.9011857707509882,\n",
       " 'eval_runtime': 33.1917,\n",
       " 'eval_samples_per_second': 22.867,\n",
       " 'eval_steps_per_second': 0.723,\n",
       " 'epoch': 5.0}"
      ]
     },
     "execution_count": 11,
     "metadata": {},
     "output_type": "execute_result"
    }
   ],
   "source": [
    "trainer.evaluate(tokenized_dataset_orig_t)"
   ]
  },
  {
   "cell_type": "code",
   "execution_count": 12,
   "id": "06b78b8c",
   "metadata": {},
   "outputs": [
    {
     "name": "stderr",
     "output_type": "stream",
     "text": [
      "The following columns in the evaluation set don't have a corresponding argument in `BertForSequenceClassification.forward` and have been ignored: text. If text are not expected by `BertForSequenceClassification.forward`,  you can safely ignore this message.\n",
      "***** Running Evaluation *****\n",
      "  Num examples = 461\n",
      "  Batch size = 32\n"
     ]
    },
    {
     "data": {
      "text/plain": [
       "{'eval_loss': 0.3780781328678131,\n",
       " 'eval_accuracy': 0.9544468546637744,\n",
       " 'eval_runtime': 20.226,\n",
       " 'eval_samples_per_second': 22.792,\n",
       " 'eval_steps_per_second': 0.742,\n",
       " 'epoch': 5.0}"
      ]
     },
     "execution_count": 12,
     "metadata": {},
     "output_type": "execute_result"
    }
   ],
   "source": [
    "trainer.evaluate(tokenized_dataset_h_t)"
   ]
  },
  {
   "cell_type": "code",
   "execution_count": 13,
   "id": "2b2fa070",
   "metadata": {},
   "outputs": [],
   "source": [
    "#trainer.evaluate(tokenized_dataset_gpt)"
   ]
  },
  {
   "cell_type": "code",
   "execution_count": 14,
   "id": "966b6b98",
   "metadata": {},
   "outputs": [],
   "source": [
    "#trainer.evaluate(tokenized_dataset_gpt_filt)"
   ]
  }
 ],
 "metadata": {
  "kernelspec": {
   "display_name": "Python 3 (ipykernel)",
   "language": "python",
   "name": "python3"
  },
  "language_info": {
   "codemirror_mode": {
    "name": "ipython",
    "version": 3
   },
   "file_extension": ".py",
   "mimetype": "text/x-python",
   "name": "python",
   "nbconvert_exporter": "python",
   "pygments_lexer": "ipython3",
   "version": "3.9.7"
  }
 },
 "nbformat": 4,
 "nbformat_minor": 5
}
