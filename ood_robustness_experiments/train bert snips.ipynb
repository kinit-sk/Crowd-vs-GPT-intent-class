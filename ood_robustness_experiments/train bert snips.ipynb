{
 "cells": [
  {
   "cell_type": "markdown",
   "id": "48964f8e",
   "metadata": {},
   "source": [
    "### This notebook has been run multiple times to ensure the results in the paper"
   ]
  },
  {
   "cell_type": "code",
   "execution_count": 1,
   "id": "a2e415a4",
   "metadata": {},
   "outputs": [
    {
     "name": "stderr",
     "output_type": "stream",
     "text": [
      "/opt/anacondas/anaconda3/envs/EMNLP/lib/python3.9/site-packages/tqdm/auto.py:21: TqdmWarning: IProgress not found. Please update jupyter and ipywidgets. See https://ipywidgets.readthedocs.io/en/stable/user_install.html\n",
      "  from .autonotebook import tqdm as notebook_tqdm\n",
      "Found cached dataset csv (/home/jan_cegin/.cache/huggingface/datasets/csv/default-8e04aeeb1f287e7e/0.0.0/6954658bab30a358235fa864b05cf819af0e179325c740e4bc853bcc7ec513e1)\n"
     ]
    }
   ],
   "source": [
    "from datasets import load_dataset\n",
    "\n",
    "\n",
    "dataset = load_dataset(\"csv\", data_files=\"challenge_data/snips/full_snips_gpt_filt.csv\", split='train', keep_default_na=False)\n",
    "\n",
    "dct_dataset = dataset.train_test_split(test_size=0.8) # this changes based on the dataset\n",
    "\n",
    "dataset_train = dct_dataset['train']\n",
    "dataset_test = dct_dataset['test']"
   ]
  },
  {
   "cell_type": "code",
   "execution_count": 3,
   "id": "5e111765",
   "metadata": {},
   "outputs": [
    {
     "name": "stderr",
     "output_type": "stream",
     "text": [
      "                                                                                \r"
     ]
    }
   ],
   "source": [
    "from transformers import AutoTokenizer\n",
    "\n",
    "tokenizer = AutoTokenizer.from_pretrained(\"bert-large-uncased\")\n",
    "\n",
    "\n",
    "def tokenize_function(examples):\n",
    "    return tokenizer(examples[\"text\"], padding=\"max_length\", truncation=True)\n",
    "\n",
    "\n",
    "tokenized_datasets = dataset_train.map(tokenize_function, batched=True)\n",
    "tokenized_test_datasets = dataset_test.map(tokenize_function, batched=True)"
   ]
  },
  {
   "cell_type": "code",
   "execution_count": 4,
   "id": "225ca95f",
   "metadata": {},
   "outputs": [
    {
     "name": "stderr",
     "output_type": "stream",
     "text": [
      "Some weights of the model checkpoint at bert-large-uncased were not used when initializing BertForSequenceClassification: ['cls.predictions.transform.LayerNorm.weight', 'cls.predictions.decoder.weight', 'cls.predictions.bias', 'cls.predictions.transform.LayerNorm.bias', 'cls.seq_relationship.weight', 'cls.predictions.transform.dense.bias', 'cls.seq_relationship.bias', 'cls.predictions.transform.dense.weight']\n",
      "- This IS expected if you are initializing BertForSequenceClassification from the checkpoint of a model trained on another task or with another architecture (e.g. initializing a BertForSequenceClassification model from a BertForPreTraining model).\n",
      "- This IS NOT expected if you are initializing BertForSequenceClassification from the checkpoint of a model that you expect to be exactly identical (initializing a BertForSequenceClassification model from a BertForSequenceClassification model).\n",
      "Some weights of BertForSequenceClassification were not initialized from the model checkpoint at bert-large-uncased and are newly initialized: ['classifier.weight', 'classifier.bias']\n",
      "You should probably TRAIN this model on a down-stream task to be able to use it for predictions and inference.\n"
     ]
    }
   ],
   "source": [
    "from transformers import AutoModelForSequenceClassification\n",
    "\n",
    "model = AutoModelForSequenceClassification.from_pretrained(\"bert-large-uncased\", num_labels=7)"
   ]
  },
  {
   "cell_type": "code",
   "execution_count": 5,
   "id": "856c7634",
   "metadata": {},
   "outputs": [],
   "source": [
    "from transformers import TrainingArguments\n",
    "\n",
    "training_args = TrainingArguments(output_dir=\"bert_taboo\")\n",
    "\n",
    "import numpy as np\n",
    "import evaluate\n",
    "\n",
    "metric = evaluate.load(\"accuracy\")\n",
    "\n",
    "def compute_metrics(eval_pred):\n",
    "    logits, labels = eval_pred\n",
    "    predictions = np.argmax(logits, axis=-1)\n",
    "    return metric.compute(predictions=predictions, references=labels)\n",
    "\n",
    "from transformers import TrainingArguments, Trainer\n",
    "\n",
    "training_args = TrainingArguments(output_dir=\"bert_taboo\", evaluation_strategy=\"no\", save_strategy=\"no\", per_device_eval_batch_size=32, per_device_train_batch_size=4, learning_rate=1e-5, num_train_epochs=5, save_steps=3000)"
   ]
  },
  {
   "cell_type": "code",
   "execution_count": 6,
   "id": "77802c34",
   "metadata": {},
   "outputs": [],
   "source": [
    "trainer = Trainer(\n",
    "    model=model,\n",
    "    args=training_args,\n",
    "    train_dataset=tokenized_datasets,\n",
    "    compute_metrics=compute_metrics\n",
    ")"
   ]
  },
  {
   "cell_type": "code",
   "execution_count": 7,
   "id": "1878f6ec",
   "metadata": {
    "scrolled": true
   },
   "outputs": [
    {
     "name": "stderr",
     "output_type": "stream",
     "text": [
      "The following columns in the training set don't have a corresponding argument in `BertForSequenceClassification.forward` and have been ignored: text. If text are not expected by `BertForSequenceClassification.forward`,  you can safely ignore this message.\n",
      "/opt/anacondas/anaconda3/envs/EMNLP/lib/python3.9/site-packages/transformers/optimization.py:306: FutureWarning: This implementation of AdamW is deprecated and will be removed in a future version. Use the PyTorch implementation torch.optim.AdamW instead, or set `no_deprecation_warning=True` to disable this warning\n",
      "  warnings.warn(\n",
      "***** Running training *****\n",
      "  Num examples = 4079\n",
      "  Num Epochs = 5\n",
      "  Instantaneous batch size per device = 4\n",
      "  Total train batch size (w. parallel, distributed & accumulation) = 4\n",
      "  Gradient Accumulation steps = 1\n",
      "  Total optimization steps = 5100\n",
      "  Number of trainable parameters = 335149063\n"
     ]
    },
    {
     "data": {
      "text/html": [
       "\n",
       "    <div>\n",
       "      \n",
       "      <progress value='5100' max='5100' style='width:300px; height:20px; vertical-align: middle;'></progress>\n",
       "      [5100/5100 32:27, Epoch 5/5]\n",
       "    </div>\n",
       "    <table border=\"1\" class=\"dataframe\">\n",
       "  <thead>\n",
       " <tr style=\"text-align: left;\">\n",
       "      <th>Step</th>\n",
       "      <th>Training Loss</th>\n",
       "    </tr>\n",
       "  </thead>\n",
       "  <tbody>\n",
       "    <tr>\n",
       "      <td>500</td>\n",
       "      <td>0.689900</td>\n",
       "    </tr>\n",
       "    <tr>\n",
       "      <td>1000</td>\n",
       "      <td>0.070900</td>\n",
       "    </tr>\n",
       "    <tr>\n",
       "      <td>1500</td>\n",
       "      <td>0.013900</td>\n",
       "    </tr>\n",
       "    <tr>\n",
       "      <td>2000</td>\n",
       "      <td>0.028300</td>\n",
       "    </tr>\n",
       "    <tr>\n",
       "      <td>2500</td>\n",
       "      <td>0.002900</td>\n",
       "    </tr>\n",
       "    <tr>\n",
       "      <td>3000</td>\n",
       "      <td>0.004400</td>\n",
       "    </tr>\n",
       "    <tr>\n",
       "      <td>3500</td>\n",
       "      <td>0.000400</td>\n",
       "    </tr>\n",
       "    <tr>\n",
       "      <td>4000</td>\n",
       "      <td>0.000100</td>\n",
       "    </tr>\n",
       "    <tr>\n",
       "      <td>4500</td>\n",
       "      <td>0.000100</td>\n",
       "    </tr>\n",
       "    <tr>\n",
       "      <td>5000</td>\n",
       "      <td>0.000100</td>\n",
       "    </tr>\n",
       "  </tbody>\n",
       "</table><p>"
      ],
      "text/plain": [
       "<IPython.core.display.HTML object>"
      ]
     },
     "metadata": {},
     "output_type": "display_data"
    },
    {
     "name": "stderr",
     "output_type": "stream",
     "text": [
      "\n",
      "\n",
      "Training completed. Do not forget to share your model on huggingface.co/models =)\n",
      "\n",
      "\n"
     ]
    },
    {
     "data": {
      "text/plain": [
       "TrainOutput(global_step=5100, training_loss=0.07951501930936002, metrics={'train_runtime': 1952.7534, 'train_samples_per_second': 10.444, 'train_steps_per_second': 2.612, 'total_flos': 1.900706125395456e+16, 'train_loss': 0.07951501930936002, 'epoch': 5.0})"
      ]
     },
     "execution_count": 7,
     "metadata": {},
     "output_type": "execute_result"
    }
   ],
   "source": [
    "trainer.train()"
   ]
  },
  {
   "cell_type": "markdown",
   "id": "8fc59c6a",
   "metadata": {},
   "source": [
    "#### evaluating on different data"
   ]
  },
  {
   "cell_type": "code",
   "execution_count": 8,
   "id": "052dc745",
   "metadata": {},
   "outputs": [],
   "source": [
    "#trainer.evaluate(tokenized_test_datasets)"
   ]
  },
  {
   "cell_type": "code",
   "execution_count": 9,
   "id": "dc36ccbe",
   "metadata": {},
   "outputs": [
    {
     "name": "stderr",
     "output_type": "stream",
     "text": [
      "Found cached dataset csv (/home/jan_cegin/.cache/huggingface/datasets/csv/default-b89a809547fd631b/0.0.0/6954658bab30a358235fa864b05cf819af0e179325c740e4bc853bcc7ec513e1)\n",
      "Found cached dataset csv (/home/jan_cegin/.cache/huggingface/datasets/csv/default-afea9912fcaad8fc/0.0.0/6954658bab30a358235fa864b05cf819af0e179325c740e4bc853bcc7ec513e1)\n",
      "Loading cached split indices for dataset at /home/jan_cegin/.cache/huggingface/datasets/csv/default-afea9912fcaad8fc/0.0.0/6954658bab30a358235fa864b05cf819af0e179325c740e4bc853bcc7ec513e1/cache-6051a40eb1e2255b.arrow and /home/jan_cegin/.cache/huggingface/datasets/csv/default-afea9912fcaad8fc/0.0.0/6954658bab30a358235fa864b05cf819af0e179325c740e4bc853bcc7ec513e1/cache-784a7edaab067296.arrow\n",
      "Found cached dataset csv (/home/jan_cegin/.cache/huggingface/datasets/csv/default-49d72d8f63e9e4aa/0.0.0/6954658bab30a358235fa864b05cf819af0e179325c740e4bc853bcc7ec513e1)\n",
      "Loading cached split indices for dataset at /home/jan_cegin/.cache/huggingface/datasets/csv/default-49d72d8f63e9e4aa/0.0.0/6954658bab30a358235fa864b05cf819af0e179325c740e4bc853bcc7ec513e1/cache-79639e117a7178e8.arrow and /home/jan_cegin/.cache/huggingface/datasets/csv/default-49d72d8f63e9e4aa/0.0.0/6954658bab30a358235fa864b05cf819af0e179325c740e4bc853bcc7ec513e1/cache-6da3c3a3ade742e4.arrow\n",
      "Found cached dataset csv (/home/jan_cegin/.cache/huggingface/datasets/csv/default-8e04aeeb1f287e7e/0.0.0/6954658bab30a358235fa864b05cf819af0e179325c740e4bc853bcc7ec513e1)\n",
      "Loading cached split indices for dataset at /home/jan_cegin/.cache/huggingface/datasets/csv/default-8e04aeeb1f287e7e/0.0.0/6954658bab30a358235fa864b05cf819af0e179325c740e4bc853bcc7ec513e1/cache-ecbf5bfb56215e3a.arrow and /home/jan_cegin/.cache/huggingface/datasets/csv/default-8e04aeeb1f287e7e/0.0.0/6954658bab30a358235fa864b05cf819af0e179325c740e4bc853bcc7ec513e1/cache-74254693d304a0fb.arrow\n"
     ]
    }
   ],
   "source": [
    "dataset_orig_test = load_dataset(\"csv\", data_files=\"challenge_data/snips/full_snips_orig_test.csv\", split='train', keep_default_na=False)\n",
    "\n",
    "\n",
    "dataset = load_dataset(\"csv\", data_files=\"challenge_data/snips/full_snips_human.csv\", split='train', keep_default_na=False)\n",
    "\n",
    "dct_dataset = dataset.train_test_split(test_size=0.2)\n",
    "\n",
    "dataset_human_test = dct_dataset['test']\n",
    "\n",
    "\n",
    "dataset = load_dataset(\"csv\", data_files=\"challenge_data/snips/full_snips_gpt.csv\", split='train', keep_default_na=False)\n",
    "\n",
    "dct_dataset = dataset.train_test_split(test_size=0.2)\n",
    "\n",
    "dataset_gpt_test = dct_dataset['test']\n",
    "\n",
    "\n",
    "\n",
    "dataset = load_dataset(\"csv\", data_files=\"challenge_data/snips/full_snips_gpt_filt.csv\", split='train', keep_default_na=False)\n",
    "\n",
    "dct_dataset = dataset.train_test_split(test_size=0.2)\n",
    "\n",
    "dataset_gpt_test_filt = dct_dataset['test']"
   ]
  },
  {
   "cell_type": "code",
   "execution_count": 10,
   "id": "bee456f3",
   "metadata": {},
   "outputs": [
    {
     "name": "stderr",
     "output_type": "stream",
     "text": [
      "Loading cached processed dataset at /home/jan_cegin/.cache/huggingface/datasets/csv/default-b89a809547fd631b/0.0.0/6954658bab30a358235fa864b05cf819af0e179325c740e4bc853bcc7ec513e1/cache-3ce194e061975e12.arrow\n",
      "Loading cached processed dataset at /home/jan_cegin/.cache/huggingface/datasets/csv/default-afea9912fcaad8fc/0.0.0/6954658bab30a358235fa864b05cf819af0e179325c740e4bc853bcc7ec513e1/cache-06a3f89484b6711a.arrow\n",
      "Loading cached processed dataset at /home/jan_cegin/.cache/huggingface/datasets/csv/default-49d72d8f63e9e4aa/0.0.0/6954658bab30a358235fa864b05cf819af0e179325c740e4bc853bcc7ec513e1/cache-78704634e32b2d34.arrow\n",
      "Loading cached processed dataset at /home/jan_cegin/.cache/huggingface/datasets/csv/default-8e04aeeb1f287e7e/0.0.0/6954658bab30a358235fa864b05cf819af0e179325c740e4bc853bcc7ec513e1/cache-1e1a8c65a603daca.arrow\n"
     ]
    }
   ],
   "source": [
    "tokenized_dataset_orig_t = dataset_orig_test.map(tokenize_function, batched=True)\n",
    "tokenized_dataset_h_t= dataset_human_test.map(tokenize_function, batched=True)\n",
    "tokenized_dataset_gpt = dataset_gpt_test.map(tokenize_function, batched=True)\n",
    "tokenized_dataset_gpt_filt = dataset_gpt_test_filt.map(tokenize_function, batched=True)"
   ]
  },
  {
   "cell_type": "code",
   "execution_count": 11,
   "id": "1fc0a5aa",
   "metadata": {},
   "outputs": [
    {
     "name": "stderr",
     "output_type": "stream",
     "text": [
      "The following columns in the evaluation set don't have a corresponding argument in `BertForSequenceClassification.forward` and have been ignored: text. If text are not expected by `BertForSequenceClassification.forward`,  you can safely ignore this message.\n",
      "***** Running Evaluation *****\n",
      "  Num examples = 697\n",
      "  Batch size = 32\n"
     ]
    },
    {
     "data": {
      "text/html": [
       "\n",
       "    <div>\n",
       "      \n",
       "      <progress value='176' max='22' style='width:300px; height:20px; vertical-align: middle;'></progress>\n",
       "      [22/22 02:04]\n",
       "    </div>\n",
       "    "
      ],
      "text/plain": [
       "<IPython.core.display.HTML object>"
      ]
     },
     "metadata": {},
     "output_type": "display_data"
    },
    {
     "data": {
      "text/plain": [
       "{'eval_loss': 0.02816127985715866,\n",
       " 'eval_accuracy': 0.9928263988522238,\n",
       " 'eval_runtime': 15.5689,\n",
       " 'eval_samples_per_second': 44.769,\n",
       " 'eval_steps_per_second': 1.413,\n",
       " 'epoch': 5.0}"
      ]
     },
     "execution_count": 11,
     "metadata": {},
     "output_type": "execute_result"
    }
   ],
   "source": [
    "trainer.evaluate(tokenized_dataset_orig_t)"
   ]
  },
  {
   "cell_type": "code",
   "execution_count": 12,
   "id": "06b78b8c",
   "metadata": {},
   "outputs": [
    {
     "name": "stderr",
     "output_type": "stream",
     "text": [
      "The following columns in the evaluation set don't have a corresponding argument in `BertForSequenceClassification.forward` and have been ignored: text. If text are not expected by `BertForSequenceClassification.forward`,  you can safely ignore this message.\n",
      "***** Running Evaluation *****\n",
      "  Num examples = 826\n",
      "  Batch size = 32\n"
     ]
    },
    {
     "data": {
      "text/plain": [
       "{'eval_loss': 0.22659948468208313,\n",
       " 'eval_accuracy': 0.9673123486682809,\n",
       " 'eval_runtime': 18.461,\n",
       " 'eval_samples_per_second': 44.743,\n",
       " 'eval_steps_per_second': 1.408,\n",
       " 'epoch': 5.0}"
      ]
     },
     "execution_count": 12,
     "metadata": {},
     "output_type": "execute_result"
    }
   ],
   "source": [
    "trainer.evaluate(tokenized_dataset_h_t)"
   ]
  },
  {
   "cell_type": "code",
   "execution_count": 13,
   "id": "2b2fa070",
   "metadata": {},
   "outputs": [],
   "source": [
    "#trainer.evaluate(tokenized_dataset_gpt)"
   ]
  },
  {
   "cell_type": "code",
   "execution_count": 14,
   "id": "966b6b98",
   "metadata": {},
   "outputs": [
    {
     "name": "stderr",
     "output_type": "stream",
     "text": [
      "The following columns in the evaluation set don't have a corresponding argument in `BertForSequenceClassification.forward` and have been ignored: text. If text are not expected by `BertForSequenceClassification.forward`,  you can safely ignore this message.\n",
      "***** Running Evaluation *****\n",
      "  Num examples = 4080\n",
      "  Batch size = 32\n"
     ]
    },
    {
     "data": {
      "text/plain": [
       "{'eval_loss': 0.018339693546295166,\n",
       " 'eval_accuracy': 0.9970588235294118,\n",
       " 'eval_runtime': 91.1841,\n",
       " 'eval_samples_per_second': 44.745,\n",
       " 'eval_steps_per_second': 1.404,\n",
       " 'epoch': 5.0}"
      ]
     },
     "execution_count": 14,
     "metadata": {},
     "output_type": "execute_result"
    }
   ],
   "source": [
    "trainer.evaluate(tokenized_dataset_gpt_filt)"
   ]
  }
 ],
 "metadata": {
  "kernelspec": {
   "display_name": "Python 3 (ipykernel)",
   "language": "python",
   "name": "python3"
  },
  "language_info": {
   "codemirror_mode": {
    "name": "ipython",
    "version": 3
   },
   "file_extension": ".py",
   "mimetype": "text/x-python",
   "name": "python",
   "nbconvert_exporter": "python",
   "pygments_lexer": "ipython3",
   "version": "3.9.7"
  }
 },
 "nbformat": 4,
 "nbformat_minor": 5
}
